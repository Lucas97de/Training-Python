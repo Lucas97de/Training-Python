{
 "cells": [
  {
   "cell_type": "code",
   "execution_count": 1,
   "metadata": {},
   "outputs": [
    {
     "name": "stdout",
     "output_type": "stream",
     "text": [
      "('a', 'b', 'c')\n"
     ]
    }
   ],
   "source": [
    "tupp = (1,2,3)\n",
    "tupp = (\"a\", \"b\", \"c\")\n",
    "\n",
    "print(tupp)"
   ]
  },
  {
   "cell_type": "code",
   "execution_count": 3,
   "metadata": {},
   "outputs": [
    {
     "name": "stdout",
     "output_type": "stream",
     "text": [
      "('Harry', 'Potter', 'Defence Against the Dark Arts')\n"
     ]
    }
   ],
   "source": [
    "inp1 = input(\"Please enter the given name of the student: \")\n",
    "inp2 = input(\"Please enter the surname of the student: \")\n",
    "inp3 = input(\"Please enter the field of study of the student: \")\n",
    "\n",
    "tup = (inp1, inp2, inp3)\n",
    "\n",
    "print((tup))"
   ]
  },
  {
   "cell_type": "code",
   "execution_count": 10,
   "metadata": {},
   "outputs": [
    {
     "name": "stdout",
     "output_type": "stream",
     "text": [
      "{'red': 'rot', 'green': 'grün', 'blue': 'blau', 'yellow': 'gelb'}\n",
      "{'red': 'rot', 'green': 'grün', 'blue': 'blau', 'yellow': 'gelb', 'brown': 'braun'}\n"
     ]
    }
   ],
   "source": [
    "colors = {\n",
    "  \"red\": \"rot\",\n",
    "  \"green\": \"grün\",\n",
    "  \"blue\": \"blau\",\n",
    "  \"yellow\": \"gelb\",\n",
    "}\n",
    "\n",
    "newcolor_eng = input(\"english colorname\")\n",
    "newcolor_ger = input(\"german colorname\")\n",
    "colors[newcolor_eng] = newcolor_ger\n",
    "\n",
    "print(colors)\n"
   ]
  },
  {
   "cell_type": "code",
   "execution_count": 11,
   "metadata": {},
   "outputs": [
    {
     "name": "stdout",
     "output_type": "stream",
     "text": [
      "The German word for red is rot\n"
     ]
    }
   ],
   "source": [
    "question = input(\"which color should be translated?\")\n",
    "\n",
    "print(\"The German word for\", question, \"is\", colors[question])"
   ]
  },
  {
   "cell_type": "code",
   "execution_count": 14,
   "metadata": {},
   "outputs": [
    {
     "name": "stdout",
     "output_type": "stream",
     "text": [
      "I'm so 🤩 to learn 🐍\n"
     ]
    }
   ],
   "source": [
    "dictionary = {\n",
    "\"happy\": \"😃\",\n",
    "\"heart\": \"😍\",\n",
    "\"rotfl\": \"🤣\",\n",
    "\"smile\": \"😊\",\n",
    "\"crying\": \"😭\",\n",
    "\"kiss\": \"😘\",\n",
    "\"clap\": \"👏\",\n",
    "\"grin\": \"😁\",\n",
    "\"fire\": \"🔥\",\n",
    "\"broken\": \"💔\",\n",
    "\"think\": \"🤔\",\n",
    "\"excited\": \"🤩\",\n",
    "\"boring\": \"🙄\",\n",
    "\"winking\": \"😉\",\n",
    "\"ok\": \"👌\",\n",
    "\"hug\": \"🤗\",\n",
    "\"cool\": \"😎\",\n",
    "\"angry\": \"😠\",\n",
    "\"python\": \"🐍\",\n",
    "} \n",
    "\n",
    "sentence = input(\"Insert a sentence: \")\n",
    "\n",
    "#words = sentence.split()\n",
    "#print(words)\n",
    "\n",
    "for word, replacement in dictionary.items():\n",
    "    sentence = sentence.replace(word, replacement)\n",
    "print(sentence)\n",
    "\n"
   ]
  },
  {
   "cell_type": "code",
   "execution_count": 25,
   "metadata": {},
   "outputs": [
    {
     "name": "stdout",
     "output_type": "stream",
     "text": [
      "The encrypted sentence is: udymts nx kzs!\n"
     ]
    }
   ],
   "source": [
    "ALPHA = 'abcdefghijklmnopqrstuvwxyz'\n",
    " \n",
    "def encrypt_caesar(key, text):\n",
    "    final_text = ''\n",
    "    for k in text.lower():\n",
    "            try:\n",
    "                temp = (ALPHA.index(k) + key) % 26\n",
    "                final_text += ALPHA[temp]\n",
    "            except ValueError:\n",
    "                final_text+= k\n",
    "    return final_text.lower()\n",
    " \n",
    "key = 5\n",
    "\n",
    "inp_text=input(\"Please enter a sentence: \")\n",
    "encrypt_text = encrypt_caesar(key,inp_text)\n",
    "print(\"The encrypted sentence is:\",encrypt_text)"
   ]
  },
  {
   "cell_type": "code",
   "execution_count": 49,
   "metadata": {},
   "outputs": [
    {
     "name": "stdout",
     "output_type": "stream",
     "text": [
      "key does not exist\n"
     ]
    }
   ],
   "source": [
    "studs = {\n",
    "  123 : \"Harry\",\n",
    "  234 : \"Hermione\",\n",
    "  345 : \"Ron\"\n",
    "}\n",
    "\n",
    "if 1 in studs:\n",
    "  a = studs[1]\n",
    "else:\n",
    "  print(\"key does not exist\")"
   ]
  }
 ],
 "metadata": {
  "interpreter": {
   "hash": "2e5b5572fb71e631e06015711c1e6753996e78e7966fc5e76b0330130f45447a"
  },
  "kernelspec": {
   "display_name": "Python 3.10.4 64-bit (windows store)",
   "language": "python",
   "name": "python3"
  },
  "language_info": {
   "codemirror_mode": {
    "name": "ipython",
    "version": 3
   },
   "file_extension": ".py",
   "mimetype": "text/x-python",
   "name": "python",
   "nbconvert_exporter": "python",
   "pygments_lexer": "ipython3",
   "version": "3.10.4"
  },
  "orig_nbformat": 4
 },
 "nbformat": 4,
 "nbformat_minor": 2
}
