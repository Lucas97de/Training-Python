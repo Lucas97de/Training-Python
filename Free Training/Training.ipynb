{
 "cells": [
  {
   "cell_type": "code",
   "execution_count": null,
   "metadata": {},
   "outputs": [],
   "source": [
    "tupp = (1,2,3)\n",
    "tupp = (\"a\", \"b\", \"c\")\n",
    "\n",
    "print(tupp)"
   ]
  },
  {
   "cell_type": "code",
   "execution_count": null,
   "metadata": {},
   "outputs": [],
   "source": [
    "inp1 = input(\"Please enter the given name of the student: \")\n",
    "inp2 = input(\"Please enter the surname of the student: \")\n",
    "inp3 = input(\"Please enter the field of study of the student: \")\n",
    "\n",
    "tup = (inp1, inp2, inp3)\n",
    "\n",
    "print((tup))"
   ]
  },
  {
   "cell_type": "code",
   "execution_count": null,
   "metadata": {},
   "outputs": [],
   "source": [
    "colors = {\n",
    "  \"red\": \"rot\",\n",
    "  \"green\": \"grün\",\n",
    "  \"blue\": \"blau\",\n",
    "  \"yellow\": \"gelb\",\n",
    "}\n",
    "\n",
    "newcolor_eng = input(\"english colorname\")\n",
    "newcolor_ger = input(\"german colorname\")\n",
    "colors[newcolor_eng] = newcolor_ger\n",
    "\n",
    "print(colors)\n"
   ]
  },
  {
   "cell_type": "code",
   "execution_count": null,
   "metadata": {},
   "outputs": [],
   "source": [
    "question = input(\"which color should be translated?\")\n",
    "\n",
    "print(\"The German word for\", question, \"is\", colors[question])"
   ]
  },
  {
   "cell_type": "code",
   "execution_count": null,
   "metadata": {},
   "outputs": [],
   "source": [
    "dictionary = {\n",
    "\"happy\": \"😃\",\n",
    "\"heart\": \"😍\",\n",
    "\"rotfl\": \"🤣\",\n",
    "\"smile\": \"😊\",\n",
    "\"crying\": \"😭\",\n",
    "\"kiss\": \"😘\",\n",
    "\"clap\": \"👏\",\n",
    "\"grin\": \"😁\",\n",
    "\"fire\": \"🔥\",\n",
    "\"broken\": \"💔\",\n",
    "\"think\": \"🤔\",\n",
    "\"excited\": \"🤩\",\n",
    "\"boring\": \"🙄\",\n",
    "\"winking\": \"😉\",\n",
    "\"ok\": \"👌\",\n",
    "\"hug\": \"🤗\",\n",
    "\"cool\": \"😎\",\n",
    "\"angry\": \"😠\",\n",
    "\"python\": \"🐍\",\n",
    "} \n",
    "\n",
    "sentence = input(\"Insert a sentence: \")\n",
    "\n",
    "#words = sentence.split()\n",
    "#print(words)\n",
    "\n",
    "for word, replacement in dictionary.items():\n",
    "    sentence = sentence.replace(word, replacement)\n",
    "print(sentence)\n",
    "\n"
   ]
  },
  {
   "cell_type": "code",
   "execution_count": null,
   "metadata": {},
   "outputs": [],
   "source": [
    "ALPHA = 'abcdefghijklmnopqrstuvwxyz'\n",
    " \n",
    "def encrypt_caesar(key, text):\n",
    "    final_text = ''\n",
    "    for k in text.lower():\n",
    "            try:\n",
    "                temp = (ALPHA.index(k) + key) % 26\n",
    "                final_text += ALPHA[temp]\n",
    "            except ValueError:\n",
    "                final_text+= k\n",
    "    return final_text.lower()\n",
    " \n",
    "key = 5\n",
    "\n",
    "inp_text=input(\"Please enter a sentence: \")\n",
    "encrypt_text = encrypt_caesar(key,inp_text)\n",
    "print(\"The encrypted sentence is:\",encrypt_text)"
   ]
  },
  {
   "cell_type": "code",
   "execution_count": 35,
   "metadata": {},
   "outputs": [
    {
     "name": "stdout",
     "output_type": "stream",
     "text": [
      "('asdf', 'asgda', '2q35')\n"
     ]
    }
   ],
   "source": [
    "def get_student_data(): \n",
    "  name = input(\"Name: \") \n",
    "  first_name = input(\"First Name: \") \n",
    "  id = input(\"Student ID: \") \n",
    "  return (name, first_name, id)\n",
    "\n",
    "value = get_student_data() \n",
    "print(value)"
   ]
  },
  {
   "cell_type": "code",
   "execution_count": null,
   "metadata": {},
   "outputs": [
    {
     "ename": "",
     "evalue": "",
     "output_type": "error",
     "traceback": [
      "\u001b[1;31mFailed to start the Kernel. \n",
      "Traceback (most recent call last):\n",
      "  File \"/Library/Frameworks/Python.framework/Versions/3.10/lib/python3.10/site-packages/traitlets/config/application.py\", line 88, in inner\n",
      "    return method(app, *args, **kwargs)\n",
      "  File \"/Library/Frameworks/Python.framework/Versions/3.10/lib/python3.10/site-packages/traitlets/config/application.py\", line 714, in parse_command_line\n",
      "    self.update_config(self.cli_config)\n",
      "  File \"/Library/Frameworks/Python.framework/Versions/3.10/lib/python3.10/site-packages/traitlets/config/configurable.py\", line 223, in update_config\n",
      "    self._load_config(config)\n",
      "  File \"/Library/Frameworks/Python.framework/Versions/3.10/lib/python3.10/site-packages/traitlets/config/configurable.py\", line 164, in _load_config\n",
      "    with self.hold_trait_notifications():\n",
      "  File \"/Library/Frameworks/Python.framework/Versions/3.10/lib/python3.10/contextlib.py\", line 142, in __exit__\n",
      "    next(self.gen)\n",
      "  File \"/Library/Frameworks/Python.framework/Versions/3.10/lib/python3.10/site-packages/traitlets/traitlets.py\", line 1207, in hold_trait_notifications\n",
      "    raise e\n",
      "  File \"/Library/Frameworks/Python.framework/Versions/3.10/lib/python3.10/site-packages/traitlets/traitlets.py\", line 1193, in hold_trait_notifications\n",
      "    value = trait._cross_validate(self, getattr(self, name))\n",
      "  File \"/Library/Frameworks/Python.framework/Versions/3.10/lib/python3.10/site-packages/traitlets/traitlets.py\", line 620, in _cross_validate\n",
      "    value = obj._trait_validators[self.name](obj, proposal)\n",
      "  File \"/Library/Frameworks/Python.framework/Versions/3.10/lib/python3.10/site-packages/traitlets/traitlets.py\", line 977, in __call__\n",
      "    return self.func(*args, **kwargs)\n",
      "  File \"/Library/Frameworks/Python.framework/Versions/3.10/lib/python3.10/site-packages/notebook/notebookapp.py\", line 1524, in _notebook_dir_validate\n",
      "    raise TraitError(trans.gettext(\"No such notebook dir: '%r'\") % value)\n",
      "traitlets.traitlets.TraitError: No such notebook dir: ''/Lucas97de/Training-Python''\n",
      "\n",
      "During handling of the above exception, another exception occurred:\n",
      "\n",
      "Traceback (most recent call last):\n",
      "  File \"/Users/lucasknorr/.vscode/extensions/ms-toolsai.jupyter-2022.3.1000901801/pythonFiles/vscode_datascience_helpers/daemon/daemon_python.py\", line 54, in _decorator\n",
      "    return func(self, *args, **kwargs)\n",
      "  File \"/Users/lucasknorr/.vscode/extensions/ms-toolsai.jupyter-2022.3.1000901801/pythonFiles/vscode_datascience_helpers/jupyter_daemon.py\", line 108, in m_exec_module_observable\n",
      "    self._start_notebook(args, cwd, env)\n",
      "  File \"/Users/lucasknorr/.vscode/extensions/ms-toolsai.jupyter-2022.3.1000901801/pythonFiles/vscode_datascience_helpers/jupyter_daemon.py\", line 162, in _start_notebook\n",
      "    app.launch_new_instance()\n",
      "  File \"/Library/Frameworks/Python.framework/Versions/3.10/lib/python3.10/site-packages/jupyter_core/application.py\", line 264, in launch_instance\n",
      "    return super(JupyterApp, cls).launch_instance(argv=argv, **kwargs)\n",
      "  File \"/Library/Frameworks/Python.framework/Versions/3.10/lib/python3.10/site-packages/traitlets/config/application.py\", line 845, in launch_instance\n",
      "    app.initialize(argv)\n",
      "  File \"/Library/Frameworks/Python.framework/Versions/3.10/lib/python3.10/site-packages/traitlets/config/application.py\", line 88, in inner\n",
      "    return method(app, *args, **kwargs)\n",
      "  File \"/Library/Frameworks/Python.framework/Versions/3.10/lib/python3.10/site-packages/notebook/notebookapp.py\", line 2143, in initialize\n",
      "    super().initialize(argv)\n",
      "  File \"/Library/Frameworks/Python.framework/Versions/3.10/lib/python3.10/site-packages/traitlets/config/application.py\", line 88, in inner\n",
      "    return method(app, *args, **kwargs)\n",
      "  File \"/Library/Frameworks/Python.framework/Versions/3.10/lib/python3.10/site-packages/jupyter_core/application.py\", line 235, in initialize\n",
      "    self.parse_command_line(argv)\n",
      "  File \"/Library/Frameworks/Python.framework/Versions/3.10/lib/python3.10/site-packages/notebook/notebookapp.py\", line 1613, in parse_command_line\n",
      "    super().parse_command_line(argv)\n",
      "  File \"/Library/Frameworks/Python.framework/Versions/3.10/lib/python3.10/site-packages/traitlets/config/application.py\", line 92, in inner\n",
      "    app.exit(1)\n",
      "  File \"/Library/Frameworks/Python.framework/Versions/3.10/lib/python3.10/site-packages/traitlets/config/application.py\", line 836, in exit\n",
      "    sys.exit(exit_status)\n",
      "SystemExit: 1\n",
      "\n",
      "[C 12:55:05.863 NotebookApp] Bad config encountered during initialization: No such notebook dir: ''/Lucas97de/Training-Python''\n",
      "\n",
      "Failed to run jupyter as observable with args notebook --no-browser --notebook-dir=\"/Lucas97de/Training-Python\" --KernelManager.autorestart=False --config=/var/folders/71/qg0ypc_10xqglv3x9lqb76pw0000gn/T/82485f04-1e8e-4503-b78f-e3c5801dba18/jupyter_notebook_config.py --NotebookApp.iopub_data_rate_limit=10000000000.0. \n",
      "View Jupyter <a href='command:jupyter.viewOutput'>log</a> for further details."
     ]
    }
   ],
   "source": [
    "light_on = True\n",
    "\n",
    "def switch_light(x):\n",
    "  return not x\n",
    "\n",
    "def print_light_state(light):\n",
    "  if light:\n",
    "    print(\"Light is on\")\n",
    "  else:\n",
    "    print(\"Light is off\")\n",
    "\n",
    "print_light_state(switch_light(switch_light(light_on)))"
   ]
  }
 ],
 "metadata": {
  "interpreter": {
   "hash": "29b11319cf0179cc51991dc5f7beb4e7e3226e80310d496f5a6837462b7b1381"
  },
  "kernelspec": {
   "display_name": "Python 3.10.4 64-bit (windows store)",
   "language": "python",
   "name": "python3"
  },
  "language_info": {
   "codemirror_mode": {
    "name": "ipython",
    "version": 3
   },
   "file_extension": ".py",
   "mimetype": "text/x-python",
   "name": "python",
   "nbconvert_exporter": "python",
   "pygments_lexer": "ipython3",
   "version": "3.8.9"
  },
  "orig_nbformat": 4
 },
 "nbformat": 4,
 "nbformat_minor": 2
}
