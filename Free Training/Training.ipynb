{
 "cells": [
  {
   "cell_type": "code",
   "execution_count": null,
   "metadata": {},
   "outputs": [],
   "source": [
    "tupp = (1,2,3)\n",
    "tupp = (\"a\", \"b\", \"c\")\n",
    "\n",
    "print(tupp)"
   ]
  },
  {
   "cell_type": "code",
   "execution_count": null,
   "metadata": {},
   "outputs": [],
   "source": [
    "inp1 = input(\"Please enter the given name of the student: \")\n",
    "inp2 = input(\"Please enter the surname of the student: \")\n",
    "inp3 = input(\"Please enter the field of study of the student: \")\n",
    "\n",
    "tup = (inp1, inp2, inp3)\n",
    "\n",
    "print((tup))"
   ]
  },
  {
   "cell_type": "code",
   "execution_count": null,
   "metadata": {},
   "outputs": [],
   "source": [
    "colors = {\n",
    "  \"red\": \"rot\",\n",
    "  \"green\": \"grün\",\n",
    "  \"blue\": \"blau\",\n",
    "  \"yellow\": \"gelb\",\n",
    "}\n",
    "\n",
    "newcolor_eng = input(\"english colorname\")\n",
    "newcolor_ger = input(\"german colorname\")\n",
    "colors[newcolor_eng] = newcolor_ger\n",
    "\n",
    "print(colors)\n"
   ]
  },
  {
   "cell_type": "code",
   "execution_count": null,
   "metadata": {},
   "outputs": [],
   "source": [
    "question = input(\"which color should be translated?\")\n",
    "\n",
    "print(\"The German word for\", question, \"is\", colors[question])"
   ]
  },
  {
   "cell_type": "code",
   "execution_count": null,
   "metadata": {},
   "outputs": [],
   "source": [
    "dictionary = {\n",
    "\"happy\": \"😃\",\n",
    "\"heart\": \"😍\",\n",
    "\"rotfl\": \"🤣\",\n",
    "\"smile\": \"😊\",\n",
    "\"crying\": \"😭\",\n",
    "\"kiss\": \"😘\",\n",
    "\"clap\": \"👏\",\n",
    "\"grin\": \"😁\",\n",
    "\"fire\": \"🔥\",\n",
    "\"broken\": \"💔\",\n",
    "\"think\": \"🤔\",\n",
    "\"excited\": \"🤩\",\n",
    "\"boring\": \"🙄\",\n",
    "\"winking\": \"😉\",\n",
    "\"ok\": \"👌\",\n",
    "\"hug\": \"🤗\",\n",
    "\"cool\": \"😎\",\n",
    "\"angry\": \"😠\",\n",
    "\"python\": \"🐍\",\n",
    "} \n",
    "\n",
    "sentence = input(\"Insert a sentence: \")\n",
    "\n",
    "#words = sentence.split()\n",
    "#print(words)\n",
    "\n",
    "for word, replacement in dictionary.items():\n",
    "    sentence = sentence.replace(word, replacement)\n",
    "print(sentence)\n",
    "\n"
   ]
  },
  {
   "cell_type": "code",
   "execution_count": null,
   "metadata": {},
   "outputs": [],
   "source": [
    "ALPHA = 'abcdefghijklmnopqrstuvwxyz'\n",
    " \n",
    "def encrypt_caesar(key, text):\n",
    "    final_text = ''\n",
    "    for k in text.lower():\n",
    "            try:\n",
    "                temp = (ALPHA.index(k) + key) % 26\n",
    "                final_text += ALPHA[temp]\n",
    "            except ValueError:\n",
    "                final_text+= k\n",
    "    return final_text.lower()\n",
    " \n",
    "key = 5\n",
    "\n",
    "inp_text=input(\"Please enter a sentence: \")\n",
    "encrypt_text = encrypt_caesar(key,inp_text)\n",
    "print(\"The encrypted sentence is:\",encrypt_text)"
   ]
  },
  {
   "cell_type": "code",
   "execution_count": 35,
   "metadata": {},
   "outputs": [
    {
     "name": "stdout",
     "output_type": "stream",
     "text": [
      "('asdf', 'asgda', '2q35')\n"
     ]
    }
   ],
   "source": [
    "def get_student_data(): \n",
    "  name = input(\"Name: \") \n",
    "  first_name = input(\"First Name: \") \n",
    "  id = input(\"Student ID: \") \n",
    "  return (name, first_name, id)\n",
    "\n",
    "value = get_student_data() \n",
    "print(value)"
   ]
  },
  {
   "cell_type": "code",
   "execution_count": 4,
   "metadata": {},
   "outputs": [
    {
     "name": "stdout",
     "output_type": "stream",
     "text": [
      "Light is on\n"
     ]
    }
   ],
   "source": [
    "light_on = True\n",
    "\n",
    "def switch_light(x):\n",
    "  return not x\n",
    "\n",
    "def print_light_state(light):\n",
    "  if light:\n",
    "    print(\"Light is on\")\n",
    "  else:\n",
    "    print(\"Light is off\")\n",
    "\n",
    "print_light_state(switch_light(switch_light(light_on)))"
   ]
  },
  {
   "cell_type": "code",
   "execution_count": 7,
   "metadata": {},
   "outputs": [
    {
     "name": "stdout",
     "output_type": "stream",
     "text": [
      "[3, 4, 5]\n"
     ]
    }
   ],
   "source": [
    "x = (1, 2, 3, 4, 5)\n",
    "_, i, *j = x\n",
    "\n",
    "print(j)"
   ]
  }
 ],
 "metadata": {
  "interpreter": {
   "hash": "29b11319cf0179cc51991dc5f7beb4e7e3226e80310d496f5a6837462b7b1381"
  },
  "kernelspec": {
   "display_name": "Python 3.10.4 64-bit (windows store)",
   "language": "python",
   "name": "python3"
  },
  "language_info": {
   "codemirror_mode": {
    "name": "ipython",
    "version": 3
   },
   "file_extension": ".py",
   "mimetype": "text/x-python",
   "name": "python",
   "nbconvert_exporter": "python",
   "pygments_lexer": "ipython3",
   "version": "3.10.4"
  },
  "orig_nbformat": 4
 },
 "nbformat": 4,
 "nbformat_minor": 2
}
