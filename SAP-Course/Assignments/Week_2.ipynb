{
 "cells": [
  {
   "cell_type": "code",
   "execution_count": null,
   "id": "a529304a",
   "metadata": {},
   "outputs": [],
   "source": [
    "start = 1\n",
    "end = 101\n",
    "\n",
    "for i in range(start,end):\n",
    "  if i % 3 == 0:\n",
    "    print(\"Fizz\")\n",
    "    if i % 3 == 0 and i % 5 == 0:\n",
    "      print(\"FizzBuzz\")\n",
    "    else:\n",
    "      print(\"Buzz\")\n",
    "  else:\n",
    "    print(i)"
   ]
  },
  {
   "cell_type": "code",
   "execution_count": 33,
   "id": "f6556f20",
   "metadata": {},
   "outputs": [
    {
     "name": "stdout",
     "output_type": "stream",
     "text": [
      "You plan to sale 300 in month  1\n",
      "For the next month we have available:  200\n",
      "You plan to sale 250 in month  2\n",
      "For the next month we have available:  -50\n",
      "You plan to sale 200 in month  3\n",
      "For the next month we have available:  -250\n",
      "You plan to sale 400 in month  4\n",
      "For the next month we have available:  -650\n",
      "You plan to sale 100 in month  5\n",
      "For the next month we have available:  -750\n"
     ]
    }
   ],
   "source": [
    "# initial_stock = int(input(\"Please enter an initial stock level: \"))\n",
    "# months_to_plan = int(input(\"Please enter the number of month to plan: \"))\n",
    "\n",
    "# current_stock = initial_stock\n",
    "\n",
    "# for i in range(months_to_plan):\n",
    "#   planed_sale_quantity = int(input(\"Please enter the planned sales quantity: \"))\n",
    "#   print(\"You plan to sale\", planed_sale_quantity, \"in month \", i+1)\n",
    "#   current_stock = current_stock - planed_sale_quantity\n",
    "#   print(\"For the next month we have available: \" , current_stock)\n",
    "  "
   ]
  },
  {
   "cell_type": "code",
   "execution_count": 40,
   "id": "bc363bca",
   "metadata": {},
   "outputs": [
    {
     "name": "stdout",
     "output_type": "stream",
     "text": [
      "The resulting production quantities are:\n",
      "The resulting production quantities are 0\n",
      "The resulting production quantities are 50\n",
      "The resulting production quantities are 200\n",
      "The resulting production quantities are 400\n",
      "The resulting production quantities are 100\n"
     ]
    }
   ],
   "source": [
    "stock = int(input(\"Please enter an initial stock level:\"))\n",
    "months = int(input(\"Please enter the number of month to plan:\"))\n",
    "sales = [int(input(\"Please enter the planned sales quantity\")) for x in range(months)]\n",
    "\n",
    "production_quantity = 0\n",
    "previous_stock = stock\n",
    "new_stock = stock\n",
    "\n",
    "print(\"The resulting production quantities are:\")\n",
    "for i in range(months):\n",
    "    previous_stock = new_stock + production_quantity\n",
    "    new_stock = previous_stock - sales[i]\n",
    "    if new_stock < 0:\n",
    "        production_quantity = sales[i] - previous_stock\n",
    "    else:\n",
    "        previous_stock = new_stock + production_quantity\n",
    "    print(\"The resulting production quantities are\", production_quantity)"
   ]
  }
 ],
 "metadata": {
  "kernelspec": {
   "display_name": "Python 3 (ipykernel)",
   "language": "python",
   "name": "python3"
  },
  "language_info": {
   "codemirror_mode": {
    "name": "ipython",
    "version": 3
   },
   "file_extension": ".py",
   "mimetype": "text/x-python",
   "name": "python",
   "nbconvert_exporter": "python",
   "pygments_lexer": "ipython3",
   "version": "3.10.4"
  },
  "varInspector": {
   "cols": {
    "lenName": 16,
    "lenType": 16,
    "lenVar": 40
   },
   "kernels_config": {
    "python": {
     "delete_cmd_postfix": "",
     "delete_cmd_prefix": "del ",
     "library": "var_list.py",
     "varRefreshCmd": "print(var_dic_list())"
    },
    "r": {
     "delete_cmd_postfix": ") ",
     "delete_cmd_prefix": "rm(",
     "library": "var_list.r",
     "varRefreshCmd": "cat(var_dic_list()) "
    }
   },
   "types_to_exclude": [
    "module",
    "function",
    "builtin_function_or_method",
    "instance",
    "_Feature"
   ],
   "window_display": false
  }
 },
 "nbformat": 4,
 "nbformat_minor": 5
}
