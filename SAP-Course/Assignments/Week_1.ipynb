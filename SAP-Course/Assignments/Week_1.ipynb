{
 "cells": [
  {
   "cell_type": "code",
   "execution_count": null,
   "id": "d6ea15c4",
   "metadata": {},
   "outputs": [],
   "source": [
    "#Assignment Week 1 Part 2\n",
    "\n",
    "angle_a = int(input(\"Please enter the first angle: \"))\n",
    "angle_b = int(input(\"Please enter the second angle: \"))\n",
    "angle_c = int(input(\"Please enter the third angle:  \"))\n",
    "\n",
    "if ((angle_a + angle_b + angle_c == 180) and angle_a > 0 and angle_b > 0 and angle_c > 0):\n",
    "    print(\"These are valid inputs\")\n",
    "    \n",
    "    if angle_a > 90 or angle_b > 90 or angle_c > 90:\n",
    "        print(\"This is an obtuse triangle\")\n",
    "    \n",
    "    if angle_a < 90 and angle_b < 90 and angle_c < 90:\n",
    "        print(\"This is an acute triangle\")\n",
    "        \n",
    "    if angle_a == 90 or angle_b == 90 or angle_c == 90:\n",
    "        print(\"This is a right triangle\")\n",
    "\n",
    "else:\n",
    "    print(\"The entered values are not valid\")"
   ]
  },
  {
   "cell_type": "code",
   "execution_count": null,
   "id": "af97388f",
   "metadata": {},
   "outputs": [],
   "source": [
    "#Bonus Assignment Week 1\n",
    "\n",
    "a = int(input(\"Please enter the value of a: \"))\n",
    "b = int(input(\"Please enter the value of b: \"))\n",
    "c = int(input(\"Please enter the value of c: \"))\n",
    "\n",
    "discriminant = b**2 - 4*a*c\n",
    "\n",
    "if discriminant == 0:\n",
    "    print(\"The quadratic equation has 1 real solution.\")\n",
    "if discriminant > 0:\n",
    "    print(\"The quadratic equation has 2 real solutions.\")\n",
    "if discriminant < 0:\n",
    "    print(\"The quadratic equation has 2 complex solutions.\")\n"
   ]
  }
 ],
 "metadata": {
  "interpreter": {
   "hash": "aee8b7b246df8f9039afb4144a1f6fd8d2ca17a180786b69acc140d282b71a49"
  },
  "kernelspec": {
   "display_name": "Python 3 (ipykernel)",
   "language": "python",
   "name": "python3"
  },
  "language_info": {
   "codemirror_mode": {
    "name": "ipython",
    "version": 3
   },
   "file_extension": ".py",
   "mimetype": "text/x-python",
   "name": "python",
   "nbconvert_exporter": "python",
   "pygments_lexer": "ipython3",
   "version": "3.9.7"
  }
 },
 "nbformat": 4,
 "nbformat_minor": 5
}
