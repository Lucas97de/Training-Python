{
 "cells": [
  {
   "cell_type": "markdown",
   "id": "c94b7f60",
   "metadata": {},
   "source": [
    "# Unit 2 "
   ]
  },
  {
   "cell_type": "code",
   "execution_count": null,
   "id": "40f278eb",
   "metadata": {},
   "outputs": [],
   "source": [
    "star_wars_movies = [\n",
    "[\"The Phantom Menace\", \"Attack of the Clones\", \"Revenge of the Sith\"],  \n",
    "[\"A New Hope\", \"The Empire Strikes Back\", \"Return of the Jedi\"],   \n",
    "[\"The Force Awakens\", \"The Last Jedi\", \"The Rise of Skywalker\"],\n",
    "]\n",
    "\n",
    "trilogy = int(input(\"Trilogy: \"))\n",
    "film = int(input(\"Film: \"))\n",
    "\n",
    "print(star_wars_movies[trilogy-1][film -1])"
   ]
  },
  {
   "cell_type": "markdown",
   "id": "699c4a43",
   "metadata": {},
   "source": [
    "# Unit 4"
   ]
  },
  {
   "cell_type": "code",
   "execution_count": null,
   "id": "a9af6eab",
   "metadata": {},
   "outputs": [],
   "source": [
    "stocks = [[\"SAP\", 106, -3.0], [\"AAPL\", 165, 1.25], [\"TSLA\", 860, 54.2], [\"ORCL\", 76, -0.25], [\"ZM\", 114, 6.2]] \n",
    "\n",
    "sell_list = []\n",
    "    \n",
    "\n",
    "for i in stocks: \n",
    "    if i[2]/(i[1]-i[2]) > 0.05: \n",
    "        sell_list.append(i[0]) \n",
    "    else: ...\n",
    "        \n",
    "print(sell_list)"
   ]
  },
  {
   "cell_type": "markdown",
   "id": "2b1ae33d",
   "metadata": {},
   "source": [
    "# Unit 5"
   ]
  },
  {
   "cell_type": "code",
   "execution_count": 10,
   "id": "fffb444c",
   "metadata": {},
   "outputs": [
    {
     "name": "stdout",
     "output_type": "stream",
     "text": [
      "Please enter the number of rows in the matrix:2\n",
      "Please enter the number of columns in the matrix:3\n",
      "Value:1\n",
      "Value:2\n",
      "Value:3\n",
      "Value:4\n",
      "Value:5\n",
      "Value:6\n",
      "Sum of row: 6\n",
      "Sum of row: 15\n"
     ]
    }
   ],
   "source": [
    "rows = int(input(\"Please enter the number of rows in the matrix:\"))\n",
    "colums = int(input(\"Please enter the number of columns in the matrix:\"))\n",
    "\n",
    "matrix = []\n",
    "\n",
    "\n",
    "for i in range(rows):\n",
    "    colum = []\n",
    "    #print(\"Row:\", i)\n",
    "    for j in range(colums):\n",
    "        value = int(input(\"Value:\"))\n",
    "        colum.append(value)\n",
    "    matrix.append(colum)\n",
    "\n",
    "for i in range(0, rows):\n",
    "    print(\"Sum of row:\",sum(matrix[i]))"
   ]
  },
  {
   "cell_type": "code",
   "execution_count": 42,
   "id": "bb49f686",
   "metadata": {},
   "outputs": [],
   "source": []
  },
  {
   "cell_type": "code",
   "execution_count": null,
   "id": "6689a824",
   "metadata": {},
   "outputs": [],
   "source": []
  }
 ],
 "metadata": {
  "kernelspec": {
   "display_name": "Python 3 (ipykernel)",
   "language": "python",
   "name": "python3"
  },
  "language_info": {
   "codemirror_mode": {
    "name": "ipython",
    "version": 3
   },
   "file_extension": ".py",
   "mimetype": "text/x-python",
   "name": "python",
   "nbconvert_exporter": "python",
   "pygments_lexer": "ipython3",
   "version": "3.9.7"
  },
  "varInspector": {
   "cols": {
    "lenName": 16,
    "lenType": 16,
    "lenVar": 40
   },
   "kernels_config": {
    "python": {
     "delete_cmd_postfix": "",
     "delete_cmd_prefix": "del ",
     "library": "var_list.py",
     "varRefreshCmd": "print(var_dic_list())"
    },
    "r": {
     "delete_cmd_postfix": ") ",
     "delete_cmd_prefix": "rm(",
     "library": "var_list.r",
     "varRefreshCmd": "cat(var_dic_list()) "
    }
   },
   "types_to_exclude": [
    "module",
    "function",
    "builtin_function_or_method",
    "instance",
    "_Feature"
   ],
   "window_display": false
  }
 },
 "nbformat": 4,
 "nbformat_minor": 5
}
