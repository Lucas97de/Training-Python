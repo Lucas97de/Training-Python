{
 "cells": [
  {
   "cell_type": "code",
   "execution_count": 1,
   "id": "a476a19e",
   "metadata": {},
   "outputs": [
    {
     "name": "stdout",
     "output_type": "stream",
     "text": [
      "Please enter a name Augsburg\n",
      "Please enter a start Augsburg\n",
      "Please enter a destination München\n",
      "Please enter a means of transportation Zug\n",
      "Augsburg wants to travel from Augsburg to München by Zug\n"
     ]
    }
   ],
   "source": [
    "#Unit 3\n",
    "\n",
    "name = input(\"Please enter a name \")\n",
    "start_city = input(\"Please enter a start \")\n",
    "destination_city = input(\"Please enter a destination \")\n",
    "transportation = input(\"Please enter a means of transportation \")\n",
    "\n",
    "print(name, \"wants to travel from\", start_city, \"to\", destination_city, \"by\", transportation)"
   ]
  },
  {
   "cell_type": "code",
   "execution_count": 2,
   "id": "0587d6ba",
   "metadata": {},
   "outputs": [
    {
     "name": "stdout",
     "output_type": "stream",
     "text": [
      "Number 1: 1\n",
      "Number 2: 2\n",
      "Number 3: 3\n",
      "3 is the biggest number\n"
     ]
    }
   ],
   "source": [
    "#Unit 5\n",
    "\n",
    "a = int(input(\"Enter first number: \"))\n",
    "b = int(input(\"Enter second number: \"))\n",
    "c = int(input(\"Enter third number: \"))\n",
    " \n",
    "if (a > b) and (a > c):\n",
    "   largest = a\n",
    "elif (b > a) and (b > c):\n",
    "   largest = b\n",
    "else:\n",
    "   largest = c\n",
    " \n",
    "print(\"The largest number is\",largest)"
   ]
  },
  {
   "cell_type": "code",
   "execution_count": null,
   "id": "8b62c809",
   "metadata": {},
   "outputs": [],
   "source": []
  }
 ],
 "metadata": {
  "kernelspec": {
   "display_name": "Python 3 (ipykernel)",
   "language": "python",
   "name": "python3"
  },
  "language_info": {
   "codemirror_mode": {
    "name": "ipython",
    "version": 3
   },
   "file_extension": ".py",
   "mimetype": "text/x-python",
   "name": "python",
   "nbconvert_exporter": "python",
   "pygments_lexer": "ipython3",
   "version": "3.9.7"
  }
 },
 "nbformat": 4,
 "nbformat_minor": 5
}
