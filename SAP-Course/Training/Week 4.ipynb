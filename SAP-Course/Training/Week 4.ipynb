{
 "cells": [
  {
   "cell_type": "code",
   "execution_count": 3,
   "metadata": {},
   "outputs": [
    {
     "ename": "FileNotFoundError",
     "evalue": "[Errno 2] No such file or directory: 'lorem_ipsum.txt'",
     "output_type": "error",
     "traceback": [
      "\u001b[1;31m---------------------------------------------------------------------------\u001b[0m",
      "\u001b[1;31mFileNotFoundError\u001b[0m                         Traceback (most recent call last)",
      "\u001b[1;32m\\Lucas97de\\Training-Python\\SAP-Course\\Training\\Week 4.ipynb Cell 1'\u001b[0m in \u001b[0;36m<cell line: 1>\u001b[1;34m()\u001b[0m\n\u001b[1;32m----> <a href='vscode-notebook-cell://github/Lucas97de/Training-Python/SAP-Course/Training/Week%204.ipynb#ch0000000vscode-vfs?line=0'>1</a>\u001b[0m \u001b[39mwith\u001b[39;00m \u001b[39mopen\u001b[39;49m(\u001b[39m\"\u001b[39;49m\u001b[39mlorem_ipsum.txt\u001b[39;49m\u001b[39m\"\u001b[39;49m, \u001b[39m\"\u001b[39;49m\u001b[39mr\u001b[39;49m\u001b[39m\"\u001b[39;49m) \u001b[39mas\u001b[39;00m file:\n\u001b[0;32m      <a href='vscode-notebook-cell://github/Lucas97de/Training-Python/SAP-Course/Training/Week%204.ipynb#ch0000000vscode-vfs?line=1'>2</a>\u001b[0m   \u001b[39mfor\u001b[39;00m line \u001b[39min\u001b[39;00m file:\n\u001b[0;32m      <a href='vscode-notebook-cell://github/Lucas97de/Training-Python/SAP-Course/Training/Week%204.ipynb#ch0000000vscode-vfs?line=2'>3</a>\u001b[0m     \u001b[39mprint\u001b[39m(line)\n",
      "\u001b[1;31mFileNotFoundError\u001b[0m: [Errno 2] No such file or directory: 'lorem_ipsum.txt'"
     ]
    }
   ],
   "source": [
    "with open(\"lorem_ipsum.txt\", \"r\") as file:\n",
    "  for line in file:\n",
    "    print(line)"
   ]
  }
 ],
 "metadata": {
  "interpreter": {
   "hash": "2e5b5572fb71e631e06015711c1e6753996e78e7966fc5e76b0330130f45447a"
  },
  "kernelspec": {
   "display_name": "Python 3.10.4 64-bit (windows store)",
   "language": "python",
   "name": "python3"
  },
  "language_info": {
   "codemirror_mode": {
    "name": "ipython",
    "version": 3
   },
   "file_extension": ".py",
   "mimetype": "text/x-python",
   "name": "python",
   "nbconvert_exporter": "python",
   "pygments_lexer": "ipython3",
   "version": "3.10.4"
  },
  "orig_nbformat": 4
 },
 "nbformat": 4,
 "nbformat_minor": 2
}
